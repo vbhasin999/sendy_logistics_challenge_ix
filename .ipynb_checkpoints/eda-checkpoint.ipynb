{
 "cells": [
  {
   "cell_type": "markdown",
   "metadata": {},
   "source": [
    "### EDA"
   ]
  },
  {
   "cell_type": "markdown",
   "metadata": {},
   "source": [
    "import necessary packages"
   ]
  },
  {
   "cell_type": "code",
   "execution_count": 1,
   "metadata": {},
   "outputs": [
    {
     "ename": "ModuleNotFoundError",
     "evalue": "No module named 'missingno'",
     "output_type": "error",
     "traceback": [
      "\u001b[0;31m---------------------------------------------------------------------------\u001b[0m",
      "\u001b[0;31mModuleNotFoundError\u001b[0m                       Traceback (most recent call last)",
      "Input \u001b[0;32mIn [1]\u001b[0m, in \u001b[0;36m<cell line: 5>\u001b[0;34m()\u001b[0m\n\u001b[1;32m      3\u001b[0m \u001b[38;5;28;01mimport\u001b[39;00m \u001b[38;5;21;01mseaborn\u001b[39;00m \u001b[38;5;28;01mas\u001b[39;00m \u001b[38;5;21;01msns\u001b[39;00m\n\u001b[1;32m      4\u001b[0m \u001b[38;5;28;01mimport\u001b[39;00m \u001b[38;5;21;01mmatplotlib\u001b[39;00m\u001b[38;5;21;01m.\u001b[39;00m\u001b[38;5;21;01mpyplot\u001b[39;00m \u001b[38;5;28;01mas\u001b[39;00m \u001b[38;5;21;01mplt\u001b[39;00m\n\u001b[0;32m----> 5\u001b[0m \u001b[38;5;28;01mimport\u001b[39;00m \u001b[38;5;21;01mmissingno\u001b[39;00m \u001b[38;5;28;01mas\u001b[39;00m \u001b[38;5;21;01mmsno\u001b[39;00m\n\u001b[1;32m      6\u001b[0m \u001b[38;5;28;01mimport\u001b[39;00m \u001b[38;5;21;01msklearn\u001b[39;00m\n\u001b[1;32m      7\u001b[0m \u001b[38;5;28;01mfrom\u001b[39;00m \u001b[38;5;21;01msklearn\u001b[39;00m\u001b[38;5;21;01m.\u001b[39;00m\u001b[38;5;21;01mexperimental\u001b[39;00m \u001b[38;5;28;01mimport\u001b[39;00m enable_iterative_imputer\n",
      "\u001b[0;31mModuleNotFoundError\u001b[0m: No module named 'missingno'"
     ]
    }
   ],
   "source": [
    "import numpy as np\n",
    "import pandas as pd\n",
    "import seaborn as sns\n",
    "import matplotlib.pyplot as plt\n",
    "import missingno as msno\n",
    "import sklearn\n",
    "from sklearn.experimental import enable_iterative_imputer\n",
    "from sklearn.impute import IterativeImputer\n",
    "from sklearn.neighbors import KNeighborsClassifier as KNN\n",
    "from sklearn.preprocessing import StandardScaler"
   ]
  },
  {
   "cell_type": "markdown",
   "metadata": {},
   "source": [
    "load the data"
   ]
  },
  {
   "cell_type": "code",
   "execution_count": null,
   "metadata": {},
   "outputs": [],
   "source": [
    "train = pd.read_csv('data/Train.csv')\n",
    "test = pd.read_csv('data/Test.csv')\n",
    "riders = pd.read_csv('data/Riders.csv')"
   ]
  },
  {
   "cell_type": "markdown",
   "metadata": {},
   "source": [
    "get a feel for the dataset, take a look at columns and data values"
   ]
  },
  {
   "cell_type": "code",
   "execution_count": null,
   "metadata": {},
   "outputs": [],
   "source": [
    "train.head().T"
   ]
  },
  {
   "cell_type": "code",
   "execution_count": null,
   "metadata": {},
   "outputs": [],
   "source": [
    "train.shape"
   ]
  },
  {
   "cell_type": "code",
   "execution_count": null,
   "metadata": {},
   "outputs": [],
   "source": [
    "train.drop_duplicates(inplace=True)\n",
    "train.shape\n"
   ]
  },
  {
   "cell_type": "markdown",
   "metadata": {},
   "source": [
    "No duplicate rows"
   ]
  },
  {
   "cell_type": "code",
   "execution_count": null,
   "metadata": {},
   "outputs": [],
   "source": [
    "print(test.shape)\n",
    "test.head().T"
   ]
  },
  {
   "cell_type": "code",
   "execution_count": null,
   "metadata": {},
   "outputs": [],
   "source": [
    "train.dtypes"
   ]
  },
  {
   "cell_type": "code",
   "execution_count": null,
   "metadata": {},
   "outputs": [],
   "source": [
    "riders.head().T"
   ]
  },
  {
   "cell_type": "code",
   "execution_count": null,
   "metadata": {},
   "outputs": [],
   "source": [
    "train['Vehicle Type'].unique()"
   ]
  },
  {
   "cell_type": "markdown",
   "metadata": {},
   "source": [
    "Vehicle type is bike for all rows, drop this column. Also drop columns not in\n",
    "test data"
   ]
  },
  {
   "cell_type": "code",
   "execution_count": null,
   "metadata": {},
   "outputs": [],
   "source": [
    "train.drop(columns=['Vehicle Type','Arrival at Destination - Day of Month',\n",
    "                        'Arrival at Destination - Weekday (Mo = 1)',\n",
    "                        'Arrival at Destination - Time'], inplace=True)"
   ]
  },
  {
   "cell_type": "markdown",
   "metadata": {},
   "source": [
    "checking correlation between the different day of month, weekday and time \n",
    "features with target variable"
   ]
  },
  {
   "cell_type": "code",
   "execution_count": null,
   "metadata": {},
   "outputs": [],
   "source": [
    "fig, axes = plt.subplots(1, 4, figsize=(25, 5), sharey=True)\n",
    "fig.suptitle('Day of month variable comparison')\n",
    "\n",
    "\n",
    "sns.barplot(ax=axes[0], data=train,x='Placement - Day of Month', y='Time from Pickup to Arrival')\n",
    "axes[0].set_title('placement DOM')\n",
    "\n",
    "sns.barplot(ax=axes[1], data=train, x='Confirmation - Day of Month', y='Time from Pickup to Arrival')\n",
    "axes[1].set_title('confirmation DOM')\n",
    "\n",
    "sns.barplot(ax=axes[2], data=train, x='Arrival at Pickup - Day of Month', y='Time from Pickup to Arrival')\n",
    "axes[2].set_title('arrival at pickup DOM')\n",
    "\n",
    "sns.barplot(ax=axes[3], data=train, x='Pickup - Day of Month', y='Time from Pickup to Arrival')\n",
    "axes[3].set_title('pickup DOM')\n",
    "\n",
    "    \n"
   ]
  },
  {
   "cell_type": "code",
   "execution_count": null,
   "metadata": {},
   "outputs": [],
   "source": [
    "fig, axes = plt.subplots(1, 4, figsize=(25, 5), sharey=True)\n",
    "fig.suptitle('weekday variable comparison')\n",
    "\n",
    "\n",
    "sns.barplot(ax=axes[0], data=train,x='Placement - Weekday (Mo = 1)', y='Time from Pickup to Arrival')\n",
    "axes[0].set_title('placement weekday')\n",
    "\n",
    "sns.barplot(ax=axes[1], data=train, x='Confirmation - Weekday (Mo = 1)', y='Time from Pickup to Arrival')\n",
    "axes[1].set_title('confirmation weekday')\n",
    "\n",
    "sns.barplot(ax=axes[2], data=train, x='Arrival at Pickup - Weekday (Mo = 1)', y='Time from Pickup to Arrival')\n",
    "axes[2].set_title('arrival at pickup weekday')\n",
    "\n",
    "sns.barplot(ax=axes[3], data=train, x='Pickup - Weekday (Mo = 1)', y='Time from Pickup to Arrival')\n",
    "axes[3].set_title('pickup weekday')"
   ]
  },
  {
   "cell_type": "markdown",
   "metadata": {},
   "source": [
    "After seeing these graphs it seems that they have a very high correlation with\n",
    "each other, and therefore would not add new information to aid in predicting\n",
    "the duration of the ride. So we can just keep the data for 'pickup' and drop\n",
    "the columns for placement,confirmation and arrival at pickup. Order number\n",
    "and user ID can also be dropped since they don't correlate with the time an\n",
    "order would take to drop"
   ]
  },
  {
   "cell_type": "code",
   "execution_count": null,
   "metadata": {},
   "outputs": [],
   "source": [
    "train.drop(columns=['Placement - Day of Month', 'Confirmation - Day of Month',\n",
    "'Arrival at Pickup - Day of Month', 'Placement - Weekday (Mo = 1)',\n",
    "'Confirmation - Weekday (Mo = 1)', 'Arrival at Pickup - Weekday (Mo = 1)',\n",
    "'Order No', 'User Id'], \n",
    "inplace=True)"
   ]
  },
  {
   "cell_type": "markdown",
   "metadata": {},
   "source": [
    "next we can check for missing values across columns and see if any columns\n",
    "need to be dropped or have their values imputed"
   ]
  },
  {
   "cell_type": "code",
   "execution_count": null,
   "metadata": {},
   "outputs": [],
   "source": [
    "msno.bar(train)"
   ]
  },
  {
   "cell_type": "markdown",
   "metadata": {},
   "source": [
    "we can see that precipitation has very few values and should be dropped but\n",
    "temperature only has approximately 20% of it's values missing so we can impute\n",
    "the missing values"
   ]
  },
  {
   "cell_type": "code",
   "execution_count": null,
   "metadata": {},
   "outputs": [],
   "source": [
    "train.drop(columns=['Precipitation in millimeters'], \n",
    "inplace=True)\n",
    "\n",
    "def imputeMissingVals(df: pd.DataFrame, colName: str):\n",
    "    \"\"\"imputes the missing values for a single column and drops the original\n",
    "\n",
    "    Args:\n",
    "        df (pd.DataFrame): dataFrame\n",
    "        colName (str): name of column to be dropped\n",
    "    \n",
    "    Returns:\n",
    "        None\n",
    "    \"\"\"    \n",
    "    imp = IterativeImputer(random_state=0)\n",
    "    new_col = imp.fit_transform(df[colName].to_frame())\n",
    "    df[colName] = new_col\n",
    "    return\n",
    "\n",
    "imputeMissingVals(train, 'Temperature')"
   ]
  },
  {
   "cell_type": "markdown",
   "metadata": {},
   "source": [
    "Now we can observe that our dataset has no missing data"
   ]
  },
  {
   "cell_type": "code",
   "execution_count": null,
   "metadata": {},
   "outputs": [],
   "source": [
    "msno.bar(train)"
   ]
  },
  {
   "cell_type": "markdown",
   "metadata": {},
   "source": [
    "next we convert the 'time' columns to pd.DateTime objects so we can work\n",
    "with the data and manipulate it easier. We also rounded to the nearest hour \n",
    "since this is a categorical variable and this makes the number of categories\n",
    "reasonable"
   ]
  },
  {
   "cell_type": "code",
   "execution_count": null,
   "metadata": {},
   "outputs": [],
   "source": [
    "def conv_to_time(time_cols, df):\n",
    "    for time_col in time_cols:\n",
    "            df[time_col] = (pd.to_datetime(df[time_col]))\n",
    "            df[time_col] = df[time_col].dt.round('1H')\n",
    "\n",
    "time_cols = ['Placement - Time', 'Confirmation - Time', \n",
    "'Arrival at Pickup - Time', 'Pickup - Time']\n",
    "conv_to_time(time_cols, train)\n"
   ]
  },
  {
   "cell_type": "markdown",
   "metadata": {},
   "source": [
    "Next we can plot the data to see any correlations"
   ]
  },
  {
   "cell_type": "code",
   "execution_count": null,
   "metadata": {},
   "outputs": [],
   "source": [
    "fig, axes = plt.subplots(1, 4, figsize=(25, 5), sharey=True)\n",
    "fig.suptitle('time variable comparison')\n",
    "\n",
    "\n",
    "sns.barplot(ax=axes[0], data=train,x='Placement - Time', y='Time from Pickup to Arrival')\n",
    "axes[0].set_title('placement time')\n",
    "\n",
    "sns.barplot(ax=axes[1], data=train, x='Confirmation - Time', y='Time from Pickup to Arrival')\n",
    "axes[1].set_title('confirmation time')\n",
    "\n",
    "sns.barplot(ax=axes[2], data=train, x='Arrival at Pickup - Time', y='Time from Pickup to Arrival')\n",
    "axes[2].set_title('arrival at pickup time')\n",
    "\n",
    "sns.barplot(ax=axes[3], data=train, x='Pickup - Time', y='Time from Pickup to Arrival')\n",
    "axes[3].set_title('pickup time')"
   ]
  },
  {
   "cell_type": "markdown",
   "metadata": {},
   "source": [
    "since the target variable we're trying to predict is the time from pickup to \n",
    "arrival it makes the most sense to keep just the time data for pickup, also\n",
    "since these are categorical variables, each of these columns would add around\n",
    "18 features to our model, and since the training dataset isn't that big, \n",
    "overfitting is a concern."
   ]
  },
  {
   "cell_type": "code",
   "execution_count": null,
   "metadata": {},
   "outputs": [],
   "source": [
    "train.drop(columns=['Placement - Time','Confirmation - Time',\n",
    "'Arrival at Pickup - Time'], \n",
    "inplace=True)"
   ]
  },
  {
   "cell_type": "markdown",
   "metadata": {},
   "source": [
    "The features we are left with now are:"
   ]
  },
  {
   "cell_type": "code",
   "execution_count": null,
   "metadata": {},
   "outputs": [],
   "source": [
    "train.columns"
   ]
  },
  {
   "cell_type": "markdown",
   "metadata": {},
   "source": [
    "Except for the time column, we can see the correlations of the different \n",
    "features on the heatmap below"
   ]
  },
  {
   "cell_type": "code",
   "execution_count": null,
   "metadata": {},
   "outputs": [],
   "source": [
    "sns.heatmap(train[['Pickup - Day of Month', 'Pickup - Weekday (Mo = 1)',\n",
    "'Distance (KM)', 'Temperature', 'Pickup Lat', 'Pickup Long',\n",
    "'Destination Lat', 'Destination Long','Time from Pickup to Arrival']].corr(), square=True)"
   ]
  },
  {
   "cell_type": "markdown",
   "metadata": {},
   "source": [
    "It seems that the only cell with a high correlation to the output is distance.\n",
    "So engineering some features which would make it easier for the model to learn\n",
    "correlations is important here\n",
    "\n",
    "The first feature we chose to add is a time of day feature which is a \n",
    "categorical variable that places an order into one of four categories:\n",
    "morning, afternoon, evening, night based on the pickup time\n",
    "\n",
    "The second feature just categorizes an order as a weekend or weekday delivery"
   ]
  },
  {
   "cell_type": "code",
   "execution_count": null,
   "metadata": {},
   "outputs": [],
   "source": [
    "def FENG_weekend(df: pd.DataFrame):\n",
    "    \"\"\"creates a column specifiying if pickup was on a weekend or not\n",
    "\n",
    "    Args:\n",
    "        df (pd.DataFrame): dataframe\n",
    "    \n",
    "    Returns:\n",
    "        df\n",
    "    \"\"\"     \n",
    "    df['weekend'] = df['Pickup - Weekday (Mo = 1)'] >= 6\n",
    "    return df\n",
    "\n",
    "def FENG_TODcol(df: pd.DataFrame):\n",
    "    \"\"\"adds a column which specifies the time of day of pick up from one of four\n",
    "    categories: morning, afternoon, evening, night\n",
    "\n",
    "    Args:\n",
    "        df (pd.DataFrame): dataframe\n",
    "\n",
    "    Returns:\n",
    "        df\n",
    "\n",
    "    \"\"\"       \n",
    "    conditions = [\n",
    "   (df['Pickup - Time'] >= pd.to_datetime('05:00:00')) & (df['Pickup - Time'] <= pd.to_datetime('11:59:00')),\n",
    "   (df['Pickup - Time'] >= pd.to_datetime('12:00:00')) & (df['Pickup - Time'] <= pd.to_datetime('17:59:00')),\n",
    "   (df['Pickup - Time'] >= pd.to_datetime('18:00:00')) & (df['Pickup - Time'] <= pd.to_datetime('19:59:00')),\n",
    "   (df['Pickup - Time'] >= pd.to_datetime('20:00:00')) | (df['Pickup - Time'] <= pd.to_datetime('4:59:00')),\n",
    "   ]\n",
    "\n",
    "    values = ['morning','afternoon','evening','night']\n",
    "\n",
    "    df['TOD'] = np.select(conditions, values)\n",
    "    return df\n",
    "\n",
    "train = FENG_TODcol(train)\n",
    "train = FENG_weekend(train)\n",
    "\n",
    "train.columns\n"
   ]
  },
  {
   "cell_type": "code",
   "execution_count": null,
   "metadata": {},
   "outputs": [],
   "source": [
    "fig, axes = plt.subplots(1, 2, figsize=(25, 5), sharey=True)\n",
    "fig.suptitle('raw vs engineered feature comparison: TOD')\n",
    "sns.stripplot(ax=axes[0], data=train,x='Pickup - Time', y='Time from Pickup to Arrival')\n",
    "axes[0].set_title('pickup time')\n",
    "\n",
    "sns.stripplot(ax=axes[1], data=train, x='TOD', y='Time from Pickup to Arrival')\n",
    "axes[1].set_title('time of day')"
   ]
  },
  {
   "cell_type": "code",
   "execution_count": null,
   "metadata": {},
   "outputs": [],
   "source": [
    "fig, axes = plt.subplots(1, 2, figsize=(25, 5), sharey=True)\n",
    "fig.suptitle('raw vs engineered feature comparison: weekday')\n",
    "sns.stripplot(ax=axes[0], data=train,x='Pickup - Weekday (Mo = 1)', y='Time from Pickup to Arrival')\n",
    "axes[0].set_title('pickup time')\n",
    "\n",
    "sns.stripplot(ax=axes[1], data=train, x='weekend', y='Time from Pickup to Arrival')\n",
    "axes[1].set_title('time of day')"
   ]
  },
  {
   "cell_type": "markdown",
   "metadata": {},
   "source": [
    "now we can merge in our rider data and see how it correlates with our target \n",
    "variable"
   ]
  },
  {
   "cell_type": "code",
   "execution_count": null,
   "metadata": {},
   "outputs": [],
   "source": [
    "merged_train = pd.merge(train,riders,on=\"Rider Id\")\n",
    "merged_train.columns\n"
   ]
  },
  {
   "cell_type": "code",
   "execution_count": null,
   "metadata": {},
   "outputs": [],
   "source": [
    "sns.heatmap(merged_train[['No_Of_Orders', 'Age',\n",
    "       'Average_Rating', 'No_of_Ratings', 'Time from Pickup to Arrival']].corr(), square=True)"
   ]
  }
 ],
 "metadata": {
  "kernelspec": {
   "display_name": "Python 3 (ipykernel)",
   "language": "python",
   "name": "python3"
  },
  "language_info": {
   "codemirror_mode": {
    "name": "ipython",
    "version": 3
   },
   "file_extension": ".py",
   "mimetype": "text/x-python",
   "name": "python",
   "nbconvert_exporter": "python",
   "pygments_lexer": "ipython3",
   "version": "3.9.12"
  },
  "vscode": {
   "interpreter": {
    "hash": "cffeb894cc634a79102b102d221c790af1e92d9e40d8ff35e7982894926912ff"
   }
  }
 },
 "nbformat": 4,
 "nbformat_minor": 2
}
